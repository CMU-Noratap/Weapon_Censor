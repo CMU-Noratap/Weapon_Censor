{
 "cells": [
  {
   "cell_type": "markdown",
   "id": "16582169-6f6c-4ff6-844c-cbe96127e69f",
   "metadata": {},
   "source": [
    "# Import Library"
   ]
  },
  {
   "cell_type": "code",
   "execution_count": 1,
   "id": "85446dfe-c2cc-4770-b6d5-06ebd7dd89dd",
   "metadata": {},
   "outputs": [],
   "source": [
    "import tensorflow as tf\n",
    "from tensorflow.keras import datasets, layers\n",
    "from tensorflow.keras.models import Model\n",
    "from tensorflow.keras.callbacks import ModelCheckpoint\n",
    "\n",
    "import numpy as np\n",
    "\n",
    "import glob\n",
    "import cv2\n",
    "\n",
    "import matplotlib.pyplot as plt"
   ]
  },
  {
   "cell_type": "markdown",
   "id": "7d3c8bb7-86e3-47de-9fce-a40dff327959",
   "metadata": {},
   "source": [
    "# Load Dataset"
   ]
  },
  {
   "cell_type": "code",
   "execution_count": 2,
   "id": "94c44ae0-bc37-4029-a5a4-78763fd62ee3",
   "metadata": {},
   "outputs": [],
   "source": [
    "list_train_image = glob.glob(\"C:/Users/PC_ML/Desktop/Gun_Knife_Censor/Dataset/guns-knives-yolo/guns-knives-yolo/train/images/*\")\n",
    "path_train_label = \"C:/Users/PC_ML/Desktop/Gun_Knife_Censor/Dataset/guns-knives-yolo/guns-knives-yolo/train/labels/\"\n",
    "\n",
    "list_val_image = glob.glob(\"C:/Users/PC_ML/Desktop/Gun_Knife_Censor/Dataset/guns-knives-yolo/guns-knives-yolo/valid/images/*\")\n",
    "path_val_label = \"C:/Users/PC_ML/Desktop/Gun_Knife_Censor/Dataset/guns-knives-yolo/guns-knives-yolo/valid/labels/\""
   ]
  },
  {
   "cell_type": "code",
   "execution_count": 3,
   "id": "2ee285bb-2c7a-4c00-94a6-2ec989d74a79",
   "metadata": {},
   "outputs": [],
   "source": [
    "def data_loader(list_train_image,path_train_label):\n",
    "    list_train_x = []\n",
    "    list_train_y_coff = []\n",
    "    list_train_y_bbox = []\n",
    "    \n",
    "    for file_image in list_train_image:\n",
    "        file_name = file_image.split(\"\\\\\")[1].replace(\".jpg\",\"\")\n",
    "        file_label = path_train_label+file_name+\".txt\"\n",
    "    \n",
    "        #Read Image\n",
    "        img = cv2.imread(file_image)\n",
    "        #Resize\n",
    "        img = cv2.resize(img, (300,300), interpolation = cv2.INTER_AREA)\n",
    "        #Normalize Image\n",
    "        img = img/255.0\n",
    "        #Add to list\n",
    "        list_train_x.append(img)\n",
    "    \n",
    "        #Read Label\n",
    "        label = np.zeros((14,5)) # 14 max object in one image 5 is coff,x,y,w,h\n",
    "        with open(file_label) as file:\n",
    "            for i,line in enumerate(file.readlines()):\n",
    "                _line = line.split()\n",
    "                x = float(_line[1])\n",
    "                y = float(_line[2])\n",
    "                w = float(_line[3])\n",
    "                h = float(_line[4])\n",
    "                label[i] = np.array([1.0,x,y,w,h])\n",
    "        #label = label.reshape(14*5)\n",
    "        list_train_y_coff.append(label[:,0])\n",
    "        list_train_y_bbox.append(label[:,1:].reshape(14*4))\n",
    "    \n",
    "    list_train_x = np.asarray(list_train_x)\n",
    "    list_train_y_coff = np.asarray(list_train_y_coff)\n",
    "    list_train_y_bbox = np.asarray(list_train_y_bbox)\n",
    "    return list_train_x,list_train_y_coff,list_train_y_bbox"
   ]
  },
  {
   "cell_type": "code",
   "execution_count": 4,
   "id": "ef72c989-a084-4df1-805c-914dd785179b",
   "metadata": {},
   "outputs": [],
   "source": [
    "train_x,train_y_coff,train_y_bbox = data_loader(list_train_image,path_train_label)\n",
    "val_x,val_y_coff,val_y_bbox = data_loader(list_val_image,path_val_label)"
   ]
  },
  {
   "cell_type": "code",
   "execution_count": 5,
   "id": "aea3ff16-9f28-482a-8355-11da84ccd87b",
   "metadata": {},
   "outputs": [
    {
     "name": "stdout",
     "output_type": "stream",
     "text": [
      "train_x:(4509, 300, 300, 3)\n",
      "train_y_coff:(4509, 14)\n",
      "train_y_bbox:(4509, 56)\n",
      "val_x:(1093, 300, 300, 3)\n",
      "val_y_coff:(1093, 14)\n",
      "val_y_bbox:(1093, 56)\n"
     ]
    }
   ],
   "source": [
    "print(f\"train_x:{train_x.shape}\")\n",
    "print(f\"train_y_coff:{train_y_coff.shape}\")\n",
    "print(f\"train_y_bbox:{train_y_bbox.shape}\")\n",
    "print(f\"val_x:{val_x.shape}\")\n",
    "print(f\"val_y_coff:{val_y_coff.shape}\")\n",
    "print(f\"val_y_bbox:{val_y_bbox.shape}\")"
   ]
  },
  {
   "cell_type": "markdown",
   "id": "2cf6164b-6b7d-4be5-9160-bef26060ff47",
   "metadata": {},
   "source": [
    "# Build Model"
   ]
  },
  {
   "cell_type": "code",
   "execution_count": 6,
   "id": "72aef918-7f08-41c3-b4e9-f649a7555364",
   "metadata": {},
   "outputs": [
    {
     "name": "stdout",
     "output_type": "stream",
     "text": [
      "Model: \"model\"\n",
      "__________________________________________________________________________________________________\n",
      " Layer (type)                   Output Shape         Param #     Connected to                     \n",
      "==================================================================================================\n",
      " input_1 (InputLayer)           [(None, 300, 300, 3  0           []                               \n",
      "                                )]                                                                \n",
      "                                                                                                  \n",
      " conv2d (Conv2D)                (None, 298, 298, 32  896         ['input_1[0][0]']                \n",
      "                                )                                                                 \n",
      "                                                                                                  \n",
      " max_pooling2d (MaxPooling2D)   (None, 149, 149, 32  0           ['conv2d[0][0]']                 \n",
      "                                )                                                                 \n",
      "                                                                                                  \n",
      " conv2d_1 (Conv2D)              (None, 147, 147, 64  18496       ['max_pooling2d[0][0]']          \n",
      "                                )                                                                 \n",
      "                                                                                                  \n",
      " max_pooling2d_1 (MaxPooling2D)  (None, 73, 73, 64)  0           ['conv2d_1[0][0]']               \n",
      "                                                                                                  \n",
      " conv2d_2 (Conv2D)              (None, 71, 71, 64)   36928       ['max_pooling2d_1[0][0]']        \n",
      "                                                                                                  \n",
      " flatten (Flatten)              (None, 322624)       0           ['conv2d_2[0][0]']               \n",
      "                                                                                                  \n",
      " dense (Dense)                  (None, 64)           20648000    ['flatten[0][0]']                \n",
      "                                                                                                  \n",
      " dense_1 (Dense)                (None, 64)           4160        ['dense[0][0]']                  \n",
      "                                                                                                  \n",
      " out_coff (Dense)               (None, 14)           910         ['dense_1[0][0]']                \n",
      "                                                                                                  \n",
      " out_bbox (Dense)               (None, 56)           3640        ['dense_1[0][0]']                \n",
      "                                                                                                  \n",
      "==================================================================================================\n",
      "Total params: 20,713,030\n",
      "Trainable params: 20,713,030\n",
      "Non-trainable params: 0\n",
      "__________________________________________________________________________________________________\n"
     ]
    }
   ],
   "source": [
    "# model = models.Sequential()\n",
    "# model.add(layers.Conv2D(32, (3, 3), activation='relu', input_shape=(300, 300, 3)))\n",
    "# model.add(layers.MaxPooling2D((2, 2)))\n",
    "# model.add(layers.Conv2D(64, (3, 3), activation='relu'))\n",
    "# model.add(layers.MaxPooling2D((2, 2)))\n",
    "# model.add(layers.Conv2D(64, (3, 3), activation='relu'))\n",
    "# model.add(layers.Flatten())\n",
    "# model.add(layers.Dense(64, activation='relu'))\n",
    "# model.add(layers.Dense(64, activation='relu'))\n",
    "# model.add(layers.Dense(70, activation='relu'))\n",
    "# model.summary()\n",
    "\n",
    "input = layers.Input(shape=(300, 300, 3))\n",
    "con1 = layers.Conv2D(32, (3, 3), activation='relu')(input)\n",
    "max1 = layers.MaxPooling2D((2, 2))(con1)\n",
    "con2 = layers.Conv2D(64, (3, 3), activation='relu')(max1) \n",
    "max2 = layers.MaxPooling2D((2, 2))(con2)\n",
    "con3 = layers.Conv2D(64, (3, 3), activation='relu')(max2) \n",
    "flat = layers. Flatten()(con3)\n",
    "h1 = layers.Dense(64, activation='relu')(flat)\n",
    "h2 = layers.Dense(64, activation='relu')(h1)\n",
    "out_coff = layers.Dense(14, activation='sigmoid',name=\"out_coff\")(h2)\n",
    "out_bbox = layers.Dense(56, activation='relu', name=\"out_bbox\")(h2)\n",
    "\n",
    "model = Model(inputs=input, outputs=[out_coff,out_bbox])\n",
    "model.summary()"
   ]
  },
  {
   "cell_type": "code",
   "execution_count": 7,
   "id": "ce33591d-1c96-4eb0-ae85-3d4c0f088d90",
   "metadata": {},
   "outputs": [
    {
     "name": "stdout",
     "output_type": "stream",
     "text": [
      "Model_input_shape:(None, 300, 300, 3)\n",
      "Model_output_shape:[(None, 14), (None, 56)]\n"
     ]
    }
   ],
   "source": [
    "print(f\"Model_input_shape:{model.input_shape}\")\n",
    "print(f\"Model_output_shape:{model.output_shape}\")"
   ]
  },
  {
   "cell_type": "markdown",
   "id": "f767e1bd-1630-4e82-9c51-e987db032bbe",
   "metadata": {},
   "source": [
    "# Train Model"
   ]
  },
  {
   "cell_type": "code",
   "execution_count": null,
   "id": "856896c0-f50b-479d-8f17-a55a21e20ecc",
   "metadata": {},
   "outputs": [
    {
     "name": "stdout",
     "output_type": "stream",
     "text": [
      "Epoch 1/1000\n",
      "141/141 [==============================] - 27s 109ms/step - loss: 0.1668 - out_coff_loss: 0.1085 - out_bbox_loss: 0.0584 - val_loss: 0.0888 - val_out_coff_loss: 0.0665 - val_out_bbox_loss: 0.0224\n",
      "Epoch 2/1000\n",
      " 19/141 [===>..........................] - ETA: 10s - loss: 0.0776 - out_coff_loss: 0.0548 - out_bbox_loss: 0.0228"
     ]
    }
   ],
   "source": [
    "losses = {\n",
    "\t\"out_coff\": \"binary_crossentropy\",\n",
    "\t\"out_bbox\": \"mae\",\n",
    "}\n",
    "model.compile(optimizer='adam',loss=losses)\n",
    "\n",
    "filepath = 'model/model_best_val.keras'\n",
    "save_checkpoint = ModelCheckpoint(filepath, monitor='val_loss', verbose=1,save_best_only=True, period=1,mode='min')\n",
    "\n",
    "history = model.fit(x=train_x, y={\"out_coff\":train_y_coff,\"out_bbox\":train_y_bbox}, epochs=1000,batch_size=32, validation_data=(val_x, {\"out_coff\":val_y_coff,\"out_bbox\":val_y_bbox}),callbacks=[save_checkpoint])\n",
    "\n",
    "model.save('model/model_final.keras')"
   ]
  },
  {
   "cell_type": "markdown",
   "id": "3128ea40-5168-4034-a774-75975da243ab",
   "metadata": {},
   "source": [
    "# Plot Loss"
   ]
  },
  {
   "cell_type": "code",
   "execution_count": 10,
   "id": "1fbab432-24ea-44be-a7df-2462e47149f7",
   "metadata": {},
   "outputs": [
    {
     "data": {
      "text/plain": [
       "<matplotlib.legend.Legend at 0x25f22613fd0>"
      ]
     },
     "execution_count": 10,
     "metadata": {},
     "output_type": "execute_result"
    },
    {
     "data": {
      "image/png": "[encoded data removed]",
      "text/plain": [
       "<Figure size 640x480 with 1 Axes>"
      ]
     },
     "metadata": {},
     "output_type": "display_data"
    }
   ],
   "source": [
    "plt.plot(history.history['loss'])\n",
    "plt.plot(history.history['val_loss'])\n",
    "plt.title('model loss')\n",
    "plt.ylabel('loss')\n",
    "plt.xlabel('epoch')\n",
    "plt.legend(['train', 'val'], loc='upper left')"
   ]
  }
 ],
 "metadata": {
  "kernelspec": {
   "display_name": "Python 3 (ipykernel)",
   "language": "python",
   "name": "python3"
  },
  "language_info": {
   "codemirror_mode": {
    "name": "ipython",
    "version": 3
   },
   "file_extension": ".py",
   "mimetype": "text/x-python",
   "name": "python",
   "nbconvert_exporter": "python",
   "pygments_lexer": "ipython3",
   "version": "3.8.18"
  }
 },
 "nbformat": 4,
 "nbformat_minor": 5
}
