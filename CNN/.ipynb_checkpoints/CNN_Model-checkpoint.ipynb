{
 "cells": [
  {
   "cell_type": "markdown",
   "id": "16582169-6f6c-4ff6-844c-cbe96127e69f",
   "metadata": {},
   "source": [
    "# Import Library"
   ]
  },
  {
   "cell_type": "code",
   "execution_count": 1,
   "id": "85446dfe-c2cc-4770-b6d5-06ebd7dd89dd",
   "metadata": {},
   "outputs": [],
   "source": [
    "import tensorflow as tf\n",
    "from tensorflow.keras import datasets, layers, models\n",
    "from tensorflow.keras.callbacks import ModelCheckpoint\n",
    "\n",
    "import numpy as np\n",
    "\n",
    "import glob\n",
    "import cv2"
   ]
  },
  {
   "cell_type": "markdown",
   "id": "7d3c8bb7-86e3-47de-9fce-a40dff327959",
   "metadata": {},
   "source": [
    "# Load Dataset"
   ]
  },
  {
   "cell_type": "code",
   "execution_count": 2,
   "id": "94c44ae0-bc37-4029-a5a4-78763fd62ee3",
   "metadata": {},
   "outputs": [],
   "source": [
    "list_train_image = glob.glob(\"C:/Users/PC_ML/Desktop/Gun_Knife_Censor/Dataset/guns-knives-yolo/guns-knives-yolo/train/images/*\")\n",
    "path_train_label = \"C:/Users/PC_ML/Desktop/Gun_Knife_Censor/Dataset/guns-knives-yolo/guns-knives-yolo/train/labels/\"\n",
    "\n",
    "list_val_image = glob.glob(\"C:/Users/PC_ML/Desktop/Gun_Knife_Censor/Dataset/guns-knives-yolo/guns-knives-yolo/valid/images/*\")\n",
    "path_val_label = \"C:/Users/PC_ML/Desktop/Gun_Knife_Censor/Dataset/guns-knives-yolo/guns-knives-yolo/valid/labels/\""
   ]
  },
  {
   "cell_type": "code",
   "execution_count": 3,
   "id": "2ee285bb-2c7a-4c00-94a6-2ec989d74a79",
   "metadata": {},
   "outputs": [],
   "source": [
    "def data_loader(list_train_image,path_train_label):\n",
    "    list_train_x = []\n",
    "    list_train_y = []\n",
    "    \n",
    "    for file_image in list_train_image:\n",
    "        file_name = file_image.split(\"\\\\\")[1].replace(\".jpg\",\"\")\n",
    "        file_label = path_train_label+file_name+\".txt\"\n",
    "    \n",
    "        #Read Image\n",
    "        img = cv2.imread(file_image)\n",
    "        #Resize\n",
    "        img = cv2.resize(img, (300,300), interpolation = cv2.INTER_AREA)\n",
    "        #Normalize Image\n",
    "        img = img/255.0\n",
    "        #Add to list\n",
    "        list_train_x.append(img)\n",
    "    \n",
    "        #Read Label\n",
    "        label = np.zeros((14,5)) # 14 max object in one image 5 is coff,x,y,w,h\n",
    "        with open(file_label) as file:\n",
    "            for i,line in enumerate(file.readlines()):\n",
    "                _line = line.split()\n",
    "                x = float(_line[1])\n",
    "                y = float(_line[2])\n",
    "                w = float(_line[3])\n",
    "                h = float(_line[4])\n",
    "                label[i] = np.array([1.0,x,y,w,h])\n",
    "        label = label.reshape(14*5)\n",
    "        list_train_y.append(label)\n",
    "    \n",
    "    list_train_x = np.asarray(list_train_x)\n",
    "    list_train_y = np.asarray(list_train_y)\n",
    "    return list_train_x,list_train_y"
   ]
  },
  {
   "cell_type": "code",
   "execution_count": 4,
   "id": "ef72c989-a084-4df1-805c-914dd785179b",
   "metadata": {},
   "outputs": [],
   "source": [
    "train_x,train_y = data_loader(list_train_image,path_train_label)\n",
    "val_x,val_y = data_loader(list_val_image,path_val_label)"
   ]
  },
  {
   "cell_type": "code",
   "execution_count": 5,
   "id": "aea3ff16-9f28-482a-8355-11da84ccd87b",
   "metadata": {},
   "outputs": [
    {
     "name": "stdout",
     "output_type": "stream",
     "text": [
      "train_x:(4509, 300, 300, 3)\n",
      "train_y:(4509, 70)\n",
      "val_x:(1093, 300, 300, 3)\n",
      "val_y:(1093, 70)\n"
     ]
    }
   ],
   "source": [
    "print(f\"train_x:{train_x.shape}\")\n",
    "print(f\"train_y:{train_y.shape}\")\n",
    "print(f\"val_x:{val_x.shape}\")\n",
    "print(f\"val_y:{val_y.shape}\")"
   ]
  },
  {
   "cell_type": "markdown",
   "id": "2cf6164b-6b7d-4be5-9160-bef26060ff47",
   "metadata": {},
   "source": [
    "# Build Model"
   ]
  },
  {
   "cell_type": "code",
   "execution_count": 6,
   "id": "72aef918-7f08-41c3-b4e9-f649a7555364",
   "metadata": {},
   "outputs": [
    {
     "name": "stdout",
     "output_type": "stream",
     "text": [
      "Model: \"sequential\"\n",
      "_________________________________________________________________\n",
      " Layer (type)                Output Shape              Param #   \n",
      "=================================================================\n",
      " conv2d (Conv2D)             (None, 298, 298, 32)      896       \n",
      "                                                                 \n",
      " max_pooling2d (MaxPooling2D  (None, 149, 149, 32)     0         \n",
      " )                                                               \n",
      "                                                                 \n",
      " conv2d_1 (Conv2D)           (None, 147, 147, 64)      18496     \n",
      "                                                                 \n",
      " max_pooling2d_1 (MaxPooling  (None, 73, 73, 64)       0         \n",
      " 2D)                                                             \n",
      "                                                                 \n",
      " conv2d_2 (Conv2D)           (None, 71, 71, 64)        36928     \n",
      "                                                                 \n",
      " flatten (Flatten)           (None, 322624)            0         \n",
      "                                                                 \n",
      " dense (Dense)               (None, 64)                20648000  \n",
      "                                                                 \n",
      " dense_1 (Dense)             (None, 64)                4160      \n",
      "                                                                 \n",
      " dense_2 (Dense)             (None, 70)                4550      \n",
      "                                                                 \n",
      "=================================================================\n",
      "Total params: 20,713,030\n",
      "Trainable params: 20,713,030\n",
      "Non-trainable params: 0\n",
      "_________________________________________________________________\n"
     ]
    }
   ],
   "source": [
    "model = models.Sequential()\n",
    "model.add(layers.Conv2D(32, (3, 3), activation='relu', input_shape=(300, 300, 3)))\n",
    "model.add(layers.MaxPooling2D((2, 2)))\n",
    "model.add(layers.Conv2D(64, (3, 3), activation='relu'))\n",
    "model.add(layers.MaxPooling2D((2, 2)))\n",
    "model.add(layers.Conv2D(64, (3, 3), activation='relu'))\n",
    "model.add(layers.Flatten())\n",
    "model.add(layers.Dense(64, activation='relu'))\n",
    "model.add(layers.Dense(64, activation='relu'))\n",
    "model.add(layers.Dense(70))\n",
    "model.summary()"
   ]
  },
  {
   "cell_type": "code",
   "execution_count": 7,
   "id": "ce33591d-1c96-4eb0-ae85-3d4c0f088d90",
   "metadata": {},
   "outputs": [
    {
     "name": "stdout",
     "output_type": "stream",
     "text": [
      "Model_input_shape:(None, 300, 300, 3)\n",
      "Model_output_shape:(None, 70)\n"
     ]
    }
   ],
   "source": [
    "print(f\"Model_input_shape:{model.input_shape}\")\n",
    "print(f\"Model_output_shape:{model.output_shape}\")"
   ]
  },
  {
   "cell_type": "markdown",
   "id": "f767e1bd-1630-4e82-9c51-e987db032bbe",
   "metadata": {},
   "source": [
    "# Train Model"
   ]
  },
  {
   "cell_type": "code",
   "execution_count": null,
   "id": "856896c0-f50b-479d-8f17-a55a21e20ecc",
   "metadata": {},
   "outputs": [
    {
     "name": "stdout",
     "output_type": "stream",
     "text": [
      "WARNING:tensorflow:`period` argument is deprecated. Please use `save_freq` to specify the frequency in number of batches seen.\n",
      "Epoch 1/100\n",
      "141/141 [==============================] - ETA: 0s - loss: 0.3249\n",
      "Epoch 1: val_loss improved from inf to 0.00885, saving model to model\\model_best_val.keras\n",
      "141/141 [==============================] - 24s 124ms/step - loss: 0.3249 - val_loss: 0.0089\n",
      "Epoch 2/100\n",
      " 48/141 [=========>....................] - ETA: 8s - loss: 0.0079"
     ]
    }
   ],
   "source": [
    "model.compile(optimizer='adam',loss='mse')\n",
    "\n",
    "filepath = 'model/model_best_val.keras'\n",
    "save_checkpoint = ModelCheckpoint(filepath, monitor='val_loss', verbose=1,save_best_only=True, period=1,mode='min')\n",
    "\n",
    "history = model.fit(train_x, train_y, epochs=100,batch_size=32, validation_data=(val_x, val_y),callbacks=[save_checkpoint])\n",
    "\n",
    "model.save('model/model_final.keras')"
   ]
  },
  {
   "cell_type": "markdown",
   "id": "3128ea40-5168-4034-a774-75975da243ab",
   "metadata": {},
   "source": [
    "# Plot Loss"
   ]
  },
  {
   "cell_type": "code",
   "execution_count": null,
   "id": "1fbab432-24ea-44be-a7df-2462e47149f7",
   "metadata": {},
   "outputs": [],
   "source": [
    "plt.plot(history.history['loss'])\n",
    "plt.plot(history.history['val_loss'])\n",
    "plt.title('model loss')\n",
    "plt.ylabel('loss')\n",
    "plt.xlabel('epoch')\n",
    "plt.legend(['train', 'val'], loc='upper left')"
   ]
  }
 ],
 "metadata": {
  "kernelspec": {
   "display_name": "Python 3 (ipykernel)",
   "language": "python",
   "name": "python3"
  },
  "language_info": {
   "codemirror_mode": {
    "name": "ipython",
    "version": 3
   },
   "file_extension": ".py",
   "mimetype": "text/x-python",
   "name": "python",
   "nbconvert_exporter": "python",
   "pygments_lexer": "ipython3",
   "version": "3.8.18"
  }
 },
 "nbformat": 4,
 "nbformat_minor": 5
}
