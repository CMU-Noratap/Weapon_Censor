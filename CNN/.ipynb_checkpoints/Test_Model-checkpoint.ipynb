{
 "cells": [
  {
   "cell_type": "code",
   "execution_count": 2,
   "id": "5e3636e9-4879-4a3b-88c6-ae49b0adfc0e",
   "metadata": {},
   "outputs": [],
   "source": [
    "import tensorflow as tf\n",
    "from tensorflow.keras import datasets, layers, models\n",
    "from tensorflow.keras.callbacks import ModelCheckpoint\n",
    "from tensorflow.keras.models import load_model\n",
    "\n",
    "import numpy as np\n",
    "\n",
    "import glob\n",
    "import cv2\n",
    "\n",
    "import matplotlib.pyplot as plt"
   ]
  },
  {
   "cell_type": "markdown",
   "id": "552b64d1-0652-4b87-8d6d-15d29d08d997",
   "metadata": {},
   "source": [
    "# Load Data"
   ]
  },
  {
   "cell_type": "code",
   "execution_count": 3,
   "id": "7b708366-dcdc-48d4-80dd-0a61116d490a",
   "metadata": {},
   "outputs": [],
   "source": [
    "list_test_image = glob.glob(\"C:/Users/PC_ML/Desktop/Gun_Knife_Censor/Dataset/guns-knives-yolo/guns-knives-yolo/test/images/*\")\n",
    "path_test_label = \"C:/Users/PC_ML/Desktop/Gun_Knife_Censor/Dataset/guns-knives-yolo/guns-knives-yolo/test/labels/\"\n",
    "path_test_image = \"C:/Users/PC_ML/Desktop/Gun_Knife_Censor/Dataset/guns-knives-yolo/guns-knives-yolo/test/images/\""
   ]
  },
  {
   "cell_type": "code",
   "execution_count": 4,
   "id": "38517db2-aa85-44c1-8b52-64eff443cc80",
   "metadata": {},
   "outputs": [],
   "source": [
    "def data_loader(list_train_image,path_train_label):\n",
    "    list_train_x = []\n",
    "    list_train_y_coff = []\n",
    "    list_train_y_bbox = []\n",
    "    \n",
    "    for file_image in list_train_image:\n",
    "        file_name = file_image.split(\"\\\\\")[1].replace(\".jpg\",\"\")\n",
    "        file_label = path_train_label+file_name+\".txt\"\n",
    "    \n",
    "        #Read Image\n",
    "        img = cv2.imread(file_image)\n",
    "        #Resize\n",
    "        img = cv2.resize(img, (300,300), interpolation = cv2.INTER_AREA)\n",
    "        #Normalize Image\n",
    "        img = img/255.0\n",
    "        #Add to list\n",
    "        list_train_x.append(img)\n",
    "    \n",
    "        #Read Label\n",
    "        label = np.zeros((14,5)) # 14 max object in one image 5 is coff,x,y,w,h\n",
    "        with open(file_label) as file:\n",
    "            for i,line in enumerate(file.readlines()):\n",
    "                _line = line.split()\n",
    "                x = float(_line[1])\n",
    "                y = float(_line[2])\n",
    "                w = float(_line[3])\n",
    "                h = float(_line[4])\n",
    "                label[i] = np.array([1.0,x,y,w,h])\n",
    "        #label = label.reshape(14*5)\n",
    "        list_train_y_coff.append(label[:,0])\n",
    "        list_train_y_bbox.append(label[:,1:].reshape(14*4))\n",
    "    \n",
    "    list_train_x = np.asarray(list_train_x)\n",
    "    list_train_y_coff = np.asarray(list_train_y_coff)\n",
    "    list_train_y_bbox = np.asarray(list_train_y_bbox)\n",
    "    return list_train_x,list_train_y_coff,list_train_y_bbox"
   ]
  },
  {
   "cell_type": "code",
   "execution_count": 5,
   "id": "1bd2e317-2b74-4fe2-a994-d3af1a028f16",
   "metadata": {},
   "outputs": [],
   "source": [
    "test_x,test_y_coff,test_y_bbox = data_loader(list_test_image,path_test_label)"
   ]
  },
  {
   "cell_type": "code",
   "execution_count": 6,
   "id": "928d6d26-bfd5-49a5-be03-5f2a4b392754",
   "metadata": {},
   "outputs": [
    {
     "name": "stdout",
     "output_type": "stream",
     "text": [
      "test_x:(441, 300, 300, 3)\n",
      "test_y_coff:(441, 14)\n",
      "test_y_bbox:(441, 56)\n"
     ]
    }
   ],
   "source": [
    "print(f\"test_x:{test_x.shape}\")\n",
    "print(f\"test_y_coff:{test_y_coff.shape}\")\n",
    "print(f\"test_y_bbox:{test_y_bbox.shape}\")"
   ]
  },
  {
   "cell_type": "markdown",
   "id": "86a70aff-cf31-482f-90d2-fd280d9f63f4",
   "metadata": {},
   "source": [
    "# Load Model"
   ]
  },
  {
   "cell_type": "code",
   "execution_count": 7,
   "id": "786c542e-a2e0-4ccd-b3e3-59cc54808b6f",
   "metadata": {},
   "outputs": [
    {
     "name": "stdout",
     "output_type": "stream",
     "text": [
      "Model: \"model\"\n",
      "__________________________________________________________________________________________________\n",
      " Layer (type)                   Output Shape         Param #     Connected to                     \n",
      "==================================================================================================\n",
      " input_1 (InputLayer)           [(None, 300, 300, 3  0           []                               \n",
      "                                )]                                                                \n",
      "                                                                                                  \n",
      " conv2d (Conv2D)                (None, 298, 298, 32  896         ['input_1[0][0]']                \n",
      "                                )                                                                 \n",
      "                                                                                                  \n",
      " max_pooling2d (MaxPooling2D)   (None, 149, 149, 32  0           ['conv2d[0][0]']                 \n",
      "                                )                                                                 \n",
      "                                                                                                  \n",
      " conv2d_1 (Conv2D)              (None, 147, 147, 64  18496       ['max_pooling2d[0][0]']          \n",
      "                                )                                                                 \n",
      "                                                                                                  \n",
      " max_pooling2d_1 (MaxPooling2D)  (None, 73, 73, 64)  0           ['conv2d_1[0][0]']               \n",
      "                                                                                                  \n",
      " conv2d_2 (Conv2D)              (None, 71, 71, 64)   36928       ['max_pooling2d_1[0][0]']        \n",
      "                                                                                                  \n",
      " flatten (Flatten)              (None, 322624)       0           ['conv2d_2[0][0]']               \n",
      "                                                                                                  \n",
      " dense (Dense)                  (None, 64)           20648000    ['flatten[0][0]']                \n",
      "                                                                                                  \n",
      " dense_1 (Dense)                (None, 64)           4160        ['dense[0][0]']                  \n",
      "                                                                                                  \n",
      " out_coff (Dense)               (None, 14)           910         ['dense_1[0][0]']                \n",
      "                                                                                                  \n",
      " out_bbox (Dense)               (None, 56)           3640        ['dense_1[0][0]']                \n",
      "                                                                                                  \n",
      "==================================================================================================\n",
      "Total params: 20,713,030\n",
      "Trainable params: 20,713,030\n",
      "Non-trainable params: 0\n",
      "__________________________________________________________________________________________________\n"
     ]
    }
   ],
   "source": [
    "model = load_model(\"model/model_final.keras\")\n",
    "model.summary()"
   ]
  },
  {
   "cell_type": "markdown",
   "id": "9ae7230b-7c3c-466c-a775-6b5b81a20dda",
   "metadata": {},
   "source": [
    "# Predict"
   ]
  },
  {
   "cell_type": "code",
   "execution_count": 25,
   "id": "adc9a70f-4e7f-427b-9da0-ac0dccebad04",
   "metadata": {},
   "outputs": [
    {
     "name": "stdout",
     "output_type": "stream",
     "text": [
      "14/14 [==============================] - 1s 47ms/step\n",
      "[[9.9999988e-01 5.1804560e-01 9.8509210e-01 ... 3.3299927e-12\n",
      "  4.9487477e-11 2.0000127e-11]\n",
      " [1.0000000e+00 3.6774586e-10 1.8847397e-10 ... 1.1046635e-07\n",
      "  9.2395291e-09 8.9996925e-09]\n",
      " [1.0000000e+00 1.8170501e-10 2.5726337e-13 ... 9.0680380e-11\n",
      "  2.7745681e-10 1.8421545e-10]\n",
      " ...\n",
      " [9.9999988e-01 2.5227051e-10 1.7373436e-10 ... 1.0133127e-09\n",
      "  5.1788318e-10 4.3079956e-10]\n",
      " [1.0000000e+00 2.7379213e-10 6.8071833e-11 ... 6.8082645e-10\n",
      "  5.0443733e-10 4.2828927e-10]\n",
      " [1.0000000e+00 3.8557960e-14 8.8132073e-13 ... 3.4112410e-10\n",
      "  2.6034944e-10 2.3769103e-10]]\n",
      "[[[0.35261497 0.45650005 0.63898295 0.43610263]\n",
      "  [0.6317246  0.26347178 0.56440294 0.12008102]\n",
      "  [0.         0.6329505  0.         0.        ]\n",
      "  ...\n",
      "  [0.         0.         0.         0.        ]\n",
      "  [0.         0.         0.         0.        ]\n",
      "  [0.         0.         0.         0.        ]]\n",
      "\n",
      " [[0.44396305 0.5250845  0.3868063  0.22618176]\n",
      "  [0.         0.         0.         0.        ]\n",
      "  [0.         0.         0.         0.        ]\n",
      "  ...\n",
      "  [0.         0.         0.         0.        ]\n",
      "  [0.         0.         0.         0.        ]\n",
      "  [0.         0.         0.         0.        ]]\n",
      "\n",
      " [[0.3429089  0.4882518  0.59296894 0.42000633]\n",
      "  [0.         0.         0.         0.        ]\n",
      "  [0.         0.         0.         0.        ]\n",
      "  ...\n",
      "  [0.         0.         0.         0.        ]\n",
      "  [0.         0.         0.         0.        ]\n",
      "  [0.         0.         0.         0.        ]]\n",
      "\n",
      " ...\n",
      "\n",
      " [[0.5510887  0.5333903  0.47545868 0.645617  ]\n",
      "  [0.         0.         0.         0.        ]\n",
      "  [0.         0.         0.         0.        ]\n",
      "  ...\n",
      "  [0.         0.         0.         0.        ]\n",
      "  [0.         0.         0.         0.        ]\n",
      "  [0.         0.         0.         0.        ]]\n",
      "\n",
      " [[0.50080836 0.5405753  0.5845296  0.70498395]\n",
      "  [0.         0.         0.         0.        ]\n",
      "  [0.         0.         0.         0.        ]\n",
      "  ...\n",
      "  [0.         0.         0.         0.        ]\n",
      "  [0.         0.         0.         0.        ]\n",
      "  [0.         0.         0.         0.        ]]\n",
      "\n",
      " [[0.39764482 0.644241   0.2648522  0.20344193]\n",
      "  [0.         0.         0.         0.        ]\n",
      "  [0.         0.         0.         0.        ]\n",
      "  ...\n",
      "  [0.         0.         0.         0.        ]\n",
      "  [0.         0.         0.         0.        ]\n",
      "  [0.         0.         0.         0.        ]]]\n"
     ]
    }
   ],
   "source": [
    "y_pred_coff,y_pred_bbox = model.predict(test_x)\n",
    "y_pred_bbox = y_pred_bbox.reshape(y_pred_bbox.shape[0],14,4)\n",
    "print(y_pred_coff)\n",
    "print(y_pred_bbox)"
   ]
  },
  {
   "cell_type": "code",
   "execution_count": 26,
   "id": "17c9348f-45e7-4597-9f5f-9f17f81c769b",
   "metadata": {},
   "outputs": [
    {
     "name": "stdout",
     "output_type": "stream",
     "text": [
      "(441, 14, 4)\n",
      "[[0.35261497 0.45650005 0.63898295 0.43610263]\n",
      " [0.6317246  0.26347178 0.56440294 0.12008102]\n",
      " [0.         0.6329505  0.         0.        ]\n",
      " [0.         0.         0.5023717  0.13613448]\n",
      " [0.         0.         0.         0.        ]\n",
      " [0.         0.         0.         0.        ]\n",
      " [0.         0.         0.         0.        ]\n",
      " [0.         0.         0.         0.        ]\n",
      " [0.         0.         0.         0.        ]\n",
      " [0.         0.         0.         0.        ]\n",
      " [0.         0.         0.         0.        ]\n",
      " [0.         0.         0.         0.        ]\n",
      " [0.         0.         0.         0.        ]\n",
      " [0.         0.         0.         0.        ]]\n"
     ]
    }
   ],
   "source": [
    "print(y_pred_bbox.shape)\n",
    "print(y_pred_bbox[0])"
   ]
  },
  {
   "cell_type": "code",
   "execution_count": 27,
   "id": "c06ce81b-c7a0-42a5-9ae7-1adf57b949cf",
   "metadata": {},
   "outputs": [
    {
     "name": "stdout",
     "output_type": "stream",
     "text": [
      "(441, 14)\n",
      "[9.99999881e-01 5.18045604e-01 9.85092103e-01 8.60787928e-01\n",
      " 1.32381260e-01 7.39031748e-06 1.25086399e-06 1.09147074e-08\n",
      " 1.18592425e-08 1.05900808e-08 1.29018324e-10 3.32999275e-12\n",
      " 4.94874766e-11 2.00001266e-11]\n"
     ]
    }
   ],
   "source": [
    "print(y_pred_coff.shape)\n",
    "print(y_pred_coff[0])"
   ]
  },
  {
   "cell_type": "markdown",
   "id": "ac4c13d7-c7f3-4dea-94d7-3fc78bb5a323",
   "metadata": {},
   "source": [
    "# Save Predict to txt file"
   ]
  },
  {
   "cell_type": "code",
   "execution_count": 28,
   "id": "ea9bf1fe-465d-447d-9584-609bd6c2c7f3",
   "metadata": {},
   "outputs": [
    {
     "ename": "NameError",
     "evalue": "name 'pred' is not defined",
     "output_type": "error",
     "traceback": [
      "\u001b[1;31m---------------------------------------------------------------------------\u001b[0m",
      "\u001b[1;31mNameError\u001b[0m                                 Traceback (most recent call last)",
      "Cell \u001b[1;32mIn[28], line 24\u001b[0m\n\u001b[0;32m     22\u001b[0m h \u001b[38;5;241m=\u001b[39m y_pred_bbox[i][j][\u001b[38;5;241m3\u001b[39m]\n\u001b[0;32m     23\u001b[0m \u001b[38;5;28;01mif\u001b[39;00m(coff \u001b[38;5;241m>\u001b[39m th):\n\u001b[1;32m---> 24\u001b[0m     \u001b[38;5;28mprint\u001b[39m(\u001b[43mpred\u001b[49m)\n\u001b[0;32m     25\u001b[0m     list_bbox\u001b[38;5;241m.\u001b[39mappend(\u001b[38;5;124mf\u001b[39m\u001b[38;5;124m\"\u001b[39m\u001b[38;5;124m0 \u001b[39m\u001b[38;5;132;01m{\u001b[39;00mx\u001b[38;5;132;01m:\u001b[39;00m\u001b[38;5;124m.6f\u001b[39m\u001b[38;5;132;01m}\u001b[39;00m\u001b[38;5;124m \u001b[39m\u001b[38;5;132;01m{\u001b[39;00my\u001b[38;5;132;01m:\u001b[39;00m\u001b[38;5;124m.6f\u001b[39m\u001b[38;5;132;01m}\u001b[39;00m\u001b[38;5;124m \u001b[39m\u001b[38;5;132;01m{\u001b[39;00mw\u001b[38;5;132;01m:\u001b[39;00m\u001b[38;5;124m.6f\u001b[39m\u001b[38;5;132;01m}\u001b[39;00m\u001b[38;5;124m \u001b[39m\u001b[38;5;132;01m{\u001b[39;00mh\u001b[38;5;132;01m:\u001b[39;00m\u001b[38;5;124m.6f\u001b[39m\u001b[38;5;132;01m}\u001b[39;00m\u001b[38;5;124m\"\u001b[39m)\n\u001b[0;32m     27\u001b[0m     y \u001b[38;5;241m=\u001b[39m \u001b[38;5;28mint\u001b[39m(y\u001b[38;5;241m*\u001b[39mimg_h)\n",
      "\u001b[1;31mNameError\u001b[0m: name 'pred' is not defined"
     ]
    }
   ],
   "source": [
    "th = 0.5\n",
    "output_path = \"predict/\"\n",
    "\n",
    "#Loop Each Sample\n",
    "for i in range(y_pred_coff.shape[0]):\n",
    "\n",
    "    file_name = list_test_image[i].split(\"\\\\\")[1].replace(\".jpg\",\"\")\n",
    "    \n",
    "    img =cv2.imread(list_test_image[i])\n",
    "\n",
    "    img_h = img.shape[0]\n",
    "    img_w = img.shape[1]\n",
    "    \n",
    "    #Loop Each Image\n",
    "    #print(\"-\"*100)\n",
    "    list_bbox = []\n",
    "    for j in range(y_pred_coff.shape[1]):\n",
    "        coff = y_pred_coff[i][j]\n",
    "        x = y_pred_bbox[i][j][0]\n",
    "        y = y_pred_bbox[i][j][1]\n",
    "        w = y_pred_bbox[i][j][2]\n",
    "        h = y_pred_bbox[i][j][3]\n",
    "        if(coff > th):\n",
    "            list_bbox.append(f\"0 {x:.6f} {y:.6f} {w:.6f} {h:.6f}\")\n",
    "            \n",
    "            y = int(y*img_h)\n",
    "            x = int(x*img_w)\n",
    "            h = int(h*img_h)\n",
    "            w = int(w*img_w)\n",
    "            \n",
    "            s_p = [x - w//2,y - h//2]\n",
    "            e_p = [x + w//2,y + h//2]\n",
    "            \n",
    "            color = [0,0,255]\n",
    "            thickness = 2\n",
    "            img = cv2.rectangle(img, s_p, e_p, color, thickness)\n",
    "\n",
    "            img = cv2.putText(img, f\"{coff:.3}\", s_p, cv2.FONT_HERSHEY_SIMPLEX, 1, color, thickness , cv2.LINE_AA)\n",
    "\n",
    "    #cv2.imshow(file_name,img)\n",
    "    out_img_path = output_path+file_name\n",
    "    print(out_img_path)\n",
    "    cv2.imwrite(f\"{output_path}{file_name}.jpg\",img)\n",
    "\n",
    "    f = open(f\"{output_path}\\labels\\{file_name}.txt\", \"w\")\n",
    "    f.write(\"\\n\".join(list_bbox))\n",
    "    f.close()\n",
    "\n",
    "\n",
    "    #key = cv2.waitKey(0) \n",
    "    #cv2.destroyAllWindows()\n",
    "    #if(key == ord('q')):\n",
    "    #    break\n",
    "            "
   ]
  }
 ],
 "metadata": {
  "kernelspec": {
   "display_name": "Python 3 (ipykernel)",
   "language": "python",
   "name": "python3"
  },
  "language_info": {
   "codemirror_mode": {
    "name": "ipython",
    "version": 3
   },
   "file_extension": ".py",
   "mimetype": "text/x-python",
   "name": "python",
   "nbconvert_exporter": "python",
   "pygments_lexer": "ipython3",
   "version": "3.8.18"
  }
 },
 "nbformat": 4,
 "nbformat_minor": 5
}
