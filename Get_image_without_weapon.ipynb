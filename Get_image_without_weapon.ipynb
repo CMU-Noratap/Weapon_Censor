{
 "cells": [
  {
   "cell_type": "code",
   "execution_count": 23,
   "id": "3e147eee-1821-46fe-b073-98befe446435",
   "metadata": {},
   "outputs": [
    {
     "name": "stdout",
     "output_type": "stream",
     "text": [
      "\n",
      "Item no.: 1 --> Item name = Banana\n",
      "Evaluating...\n",
      "Starting Download...\n",
      "\n",
      "\n",
      "Unfortunately all 20 could not be downloaded because some images were not downloadable. 0 is all we got for this search filter!\n",
      "\n",
      "Errors: 0\n",
      "\n",
      "({'Banana': []}, 0)\n"
     ]
    }
   ],
   "source": [
    "from google_images_download import google_images_download   #importing the library\n",
    "\n",
    "response = google_images_download.googleimagesdownload()   #class instantiation\n",
    "\n",
    "arguments = {\"keywords\":\"Banana\",\"limit\":20,\"print_urls\":True}   #creating list of arguments\n",
    "paths = response.download(arguments)   #passing the arguments to the function\n",
    "print(paths)   #printing absolute paths of the downloaded images"
   ]
  },
  {
   "cell_type": "code",
   "execution_count": 2,
   "id": "2aa51197-d750-451d-8f2c-91edf36af1a7",
   "metadata": {},
   "outputs": [
    {
     "ename": "ModuleNotFoundError",
     "evalue": "No module named 'icrawler.builtin'",
     "output_type": "error",
     "traceback": [
      "\u001b[1;31m---------------------------------------------------------------------------\u001b[0m",
      "\u001b[1;31mModuleNotFoundError\u001b[0m                       Traceback (most recent call last)",
      "Cell \u001b[1;32mIn[2], line 1\u001b[0m\n\u001b[1;32m----> 1\u001b[0m \u001b[38;5;28;01mfrom\u001b[39;00m \u001b[38;5;21;01micrawler\u001b[39;00m\u001b[38;5;21;01m.\u001b[39;00m\u001b[38;5;21;01mbuiltin\u001b[39;00m \u001b[38;5;28;01mimport\u001b[39;00m GoogleImageCrawler\n\u001b[0;32m      2\u001b[0m google_Crawler \u001b[38;5;241m=\u001b[39m GoogleImageCrawler(storage \u001b[38;5;241m=\u001b[39m {\u001b[38;5;124m'\u001b[39m\u001b[38;5;124mroot_dir\u001b[39m\u001b[38;5;124m'\u001b[39m: \u001b[38;5;124mr\u001b[39m\u001b[38;5;124m'\u001b[39m\u001b[38;5;124mC:/Users/PC_ML/Desktop/Gun_Knife_Censor/Dataset/add_without_weapon\u001b[39m\u001b[38;5;124m'\u001b[39m})\n\u001b[0;32m      3\u001b[0m google_Crawler\u001b[38;5;241m.\u001b[39mcrawl(keyword \u001b[38;5;241m=\u001b[39m \u001b[38;5;124m'\u001b[39m\u001b[38;5;124msad human faces\u001b[39m\u001b[38;5;124m'\u001b[39m, max_num \u001b[38;5;241m=\u001b[39m \u001b[38;5;241m800\u001b[39m)\n",
      "\u001b[1;31mModuleNotFoundError\u001b[0m: No module named 'icrawler.builtin'"
     ]
    }
   ],
   "source": [
    "from icrawler.builtin import GoogleImageCrawler\n",
    "google_Crawler = GoogleImageCrawler(storage = {'root_dir': r'C:/Users/PC_ML/Desktop/Gun_Knife_Censor/Dataset/add_without_weapon'})\n",
    "google_Crawler.crawl(keyword = 'sad human faces', max_num = 800)"
   ]
  },
  {
   "cell_type": "code",
   "execution_count": 1,
   "id": "f221864f-5e2f-4b95-85eb-feb757beef32",
   "metadata": {},
   "outputs": [
    {
     "name": "stderr",
     "output_type": "stream",
     "text": [
      "2023-09-23 22:28:46,336 - INFO - icrawler.crawler - start crawling...\n",
      "2023-09-23 22:28:46,339 - INFO - icrawler.crawler - starting feeder... 12 threads in total\n",
      "2023-09-23 22:28:46,340 - INFO - icrawler.feeder - thread feeder-01 started\n",
      "2023-09-23 22:28:46,340 - INFO - icrawler.feeder - thread feeder-02 started\n",
      "2023-09-23 22:28:46,341 - INFO - icrawler.feeder - thread feeder-03 started\n",
      "2023-09-23 22:28:46,342 - INFO - icrawler.feeder - thread feeder-04 started\n",
      "2023-09-23 22:28:46,342 - INFO - icrawler.feeder - thread feeder-05 started\n",
      "2023-09-23 22:28:46,343 - INFO - icrawler.feeder - thread feeder-06 started\n",
      "2023-09-23 22:28:46,344 - INFO - icrawler.feeder - thread feeder-07 started\n",
      "2023-09-23 22:28:46,344 - INFO - icrawler.feeder - thread feeder-08 started\n",
      "2023-09-23 22:28:46,345 - INFO - icrawler.feeder - thread feeder-09 started\n",
      "2023-09-23 22:28:46,346 - INFO - icrawler.feeder - thread feeder-10 started\n",
      "2023-09-23 22:28:46,346 - INFO - icrawler.feeder - thread feeder-11 started\n",
      "2023-09-23 22:28:46,347 - INFO - icrawler.feeder - thread feeder-12 started\n",
      "2023-09-23 22:28:46,348 - INFO - icrawler.crawler - starting parser... 1 threads in total\n",
      "2023-09-23 22:28:46,349 - INFO - icrawler.parser - thread parser-01 started\n",
      "2023-09-23 22:28:46,349 - INFO - icrawler.crawler - starting downloader... 12 threads in total\n",
      "2023-09-23 22:28:46,350 - INFO - icrawler.downloader - thread downloader-01 started\n",
      "2023-09-23 22:28:46,351 - INFO - icrawler.downloader - thread downloader-02 started\n",
      "2023-09-23 22:28:46,352 - INFO - icrawler.downloader - thread downloader-03 started\n",
      "2023-09-23 22:28:46,353 - INFO - icrawler.downloader - thread downloader-04 started\n",
      "2023-09-23 22:28:46,354 - INFO - icrawler.downloader - thread downloader-05 started\n",
      "2023-09-23 22:28:46,355 - INFO - icrawler.downloader - thread downloader-06 started\n",
      "2023-09-23 22:28:46,355 - INFO - icrawler.downloader - thread downloader-07 started\n",
      "2023-09-23 22:28:46,356 - INFO - icrawler.downloader - thread downloader-08 started\n",
      "2023-09-23 22:28:46,356 - INFO - icrawler.downloader - thread downloader-09 started\n",
      "2023-09-23 22:28:46,357 - INFO - icrawler.downloader - thread downloader-10 started\n",
      "2023-09-23 22:28:46,357 - INFO - icrawler.downloader - thread downloader-11 started\n",
      "2023-09-23 22:28:46,358 - INFO - icrawler.downloader - thread downloader-12 started\n",
      "2023-09-23 22:28:47,145 - INFO - icrawler.parser - parsing result page https://www.google.com/search?q=sunny&ijn=0&start=0&tbs=cdr%3A1%2Ccd_min%3A%2Ccd_max%3A&tbm=isch\n",
      "2023-09-23 22:28:49,188 - INFO - icrawler.parser - no more page urls to parse, thread parser-01 exit\n",
      "2023-09-23 22:28:51,358 - INFO - icrawler.downloader - no more download task, thread downloader-09 exit\n",
      "2023-09-23 22:28:51,359 - INFO - icrawler.downloader - no more download task, thread downloader-06 exit\n",
      "2023-09-23 22:28:51,359 - INFO - icrawler.downloader - no more download task, thread downloader-02 exit\n",
      "2023-09-23 22:28:51,359 - INFO - icrawler.downloader - no more download task, thread downloader-01 exit\n",
      "2023-09-23 22:28:51,359 - INFO - icrawler.downloader - no more download task, thread downloader-08 exit\n",
      "2023-09-23 22:28:51,359 - INFO - icrawler.downloader - no more download task, thread downloader-10 exit\n",
      "2023-09-23 22:28:51,359 - INFO - icrawler.downloader - no more download task, thread downloader-05 exit\n",
      "2023-09-23 22:28:51,359 - INFO - icrawler.downloader - no more download task, thread downloader-07 exit\n",
      "2023-09-23 22:28:51,359 - INFO - icrawler.downloader - no more download task, thread downloader-04 exit\n",
      "2023-09-23 22:28:51,359 - INFO - icrawler.downloader - no more download task, thread downloader-03 exit\n",
      "2023-09-23 22:28:51,359 - INFO - icrawler.downloader - no more download task, thread downloader-11 exit\n",
      "2023-09-23 22:28:51,383 - INFO - icrawler.downloader - no more download task, thread downloader-12 exit\n"
     ]
    },
    {
     "ename": "KeyboardInterrupt",
     "evalue": "",
     "output_type": "error",
     "traceback": [
      "\u001b[1;31m---------------------------------------------------------------------------\u001b[0m",
      "\u001b[1;31mKeyboardInterrupt\u001b[0m                         Traceback (most recent call last)",
      "Cell \u001b[1;32mIn[1], line 3\u001b[0m\n\u001b[0;32m      1\u001b[0m \u001b[38;5;28;01mfrom\u001b[39;00m \u001b[38;5;21;01micrawler\u001b[39;00m\u001b[38;5;21;01m.\u001b[39;00m\u001b[38;5;21;01mexamples\u001b[39;00m \u001b[38;5;28;01mimport\u001b[39;00m GoogleImageCrawler\n\u001b[0;32m      2\u001b[0m google_crawler \u001b[38;5;241m=\u001b[39m GoogleImageCrawler(\u001b[38;5;124m'\u001b[39m\u001b[38;5;124mDataset/add_without_weapon\u001b[39m\u001b[38;5;124m'\u001b[39m)\n\u001b[1;32m----> 3\u001b[0m \u001b[43mgoogle_crawler\u001b[49m\u001b[38;5;241;43m.\u001b[39;49m\u001b[43mcrawl\u001b[49m\u001b[43m(\u001b[49m\u001b[43mkeyword\u001b[49m\u001b[38;5;241;43m=\u001b[39;49m\u001b[38;5;124;43m'\u001b[39;49m\u001b[38;5;124;43msunny\u001b[39;49m\u001b[38;5;124;43m'\u001b[39;49m\u001b[43m,\u001b[49m\u001b[43m \u001b[49m\u001b[43moffset\u001b[49m\u001b[38;5;241;43m=\u001b[39;49m\u001b[38;5;241;43m0\u001b[39;49m\u001b[43m,\u001b[49m\u001b[43m \u001b[49m\u001b[43mmax_num\u001b[49m\u001b[38;5;241;43m=\u001b[39;49m\u001b[38;5;241;43m10\u001b[39;49m\u001b[43m,\u001b[49m\n\u001b[0;32m      4\u001b[0m \u001b[43m                     \u001b[49m\u001b[43mdate_min\u001b[49m\u001b[38;5;241;43m=\u001b[39;49m\u001b[38;5;28;43;01mNone\u001b[39;49;00m\u001b[43m,\u001b[49m\u001b[43m \u001b[49m\u001b[43mdate_max\u001b[49m\u001b[38;5;241;43m=\u001b[39;49m\u001b[38;5;28;43;01mNone\u001b[39;49;00m\u001b[43m,\u001b[49m\u001b[43m \u001b[49m\u001b[43mfeeder_thr_num\u001b[49m\u001b[38;5;241;43m=\u001b[39;49m\u001b[38;5;241;43m12\u001b[39;49m\u001b[43m,\u001b[49m\n\u001b[0;32m      5\u001b[0m \u001b[43m                     \u001b[49m\u001b[43mparser_thr_num\u001b[49m\u001b[38;5;241;43m=\u001b[39;49m\u001b[38;5;241;43m1\u001b[39;49m\u001b[43m,\u001b[49m\u001b[43m \u001b[49m\u001b[43mdownloader_thr_num\u001b[49m\u001b[38;5;241;43m=\u001b[39;49m\u001b[38;5;241;43m12\u001b[39;49m\u001b[43m,\u001b[49m\n\u001b[0;32m      6\u001b[0m \u001b[43m                     \u001b[49m\u001b[43mmin_size\u001b[49m\u001b[38;5;241;43m=\u001b[39;49m\u001b[43m(\u001b[49m\u001b[38;5;241;43m300\u001b[39;49m\u001b[43m,\u001b[49m\u001b[38;5;241;43m300\u001b[39;49m\u001b[43m)\u001b[49m\u001b[43m,\u001b[49m\u001b[43m \u001b[49m\u001b[43mmax_size\u001b[49m\u001b[38;5;241;43m=\u001b[39;49m\u001b[38;5;28;43;01mNone\u001b[39;49;00m\u001b[43m)\u001b[49m\n",
      "File \u001b[1;32m~\\anaconda3\\envs\\ewsd\\lib\\site-packages\\icrawler\\examples\\google.py:77\u001b[0m, in \u001b[0;36mGoogleImageCrawler.crawl\u001b[1;34m(self, keyword, offset, max_num, date_min, date_max, feeder_thr_num, parser_thr_num, downloader_thr_num, min_size, max_size)\u001b[0m\n\u001b[0;32m     68\u001b[0m feeder_kwargs \u001b[38;5;241m=\u001b[39m \u001b[38;5;28mdict\u001b[39m(\n\u001b[0;32m     69\u001b[0m     keyword\u001b[38;5;241m=\u001b[39mkeyword,\n\u001b[0;32m     70\u001b[0m     offset\u001b[38;5;241m=\u001b[39moffset,\n\u001b[1;32m   (...)\u001b[0m\n\u001b[0;32m     73\u001b[0m     date_max\u001b[38;5;241m=\u001b[39mdate_max\n\u001b[0;32m     74\u001b[0m )\n\u001b[0;32m     75\u001b[0m downloader_kwargs \u001b[38;5;241m=\u001b[39m \u001b[38;5;28mdict\u001b[39m(max_num\u001b[38;5;241m=\u001b[39mmax_num, min_size\u001b[38;5;241m=\u001b[39mmin_size,\n\u001b[0;32m     76\u001b[0m                          max_size\u001b[38;5;241m=\u001b[39mmax_size)\n\u001b[1;32m---> 77\u001b[0m \u001b[38;5;28;43msuper\u001b[39;49m\u001b[43m(\u001b[49m\u001b[43mGoogleImageCrawler\u001b[49m\u001b[43m,\u001b[49m\u001b[43m \u001b[49m\u001b[38;5;28;43mself\u001b[39;49m\u001b[43m)\u001b[49m\u001b[38;5;241;43m.\u001b[39;49m\u001b[43mcrawl\u001b[49m\u001b[43m(\u001b[49m\n\u001b[0;32m     78\u001b[0m \u001b[43m    \u001b[49m\u001b[43mfeeder_thr_num\u001b[49m\u001b[43m,\u001b[49m\u001b[43m \u001b[49m\u001b[43mparser_thr_num\u001b[49m\u001b[43m,\u001b[49m\u001b[43m \u001b[49m\u001b[43mdownloader_thr_num\u001b[49m\u001b[43m,\u001b[49m\n\u001b[0;32m     79\u001b[0m \u001b[43m    \u001b[49m\u001b[43mfeeder_kwargs\u001b[49m\u001b[38;5;241;43m=\u001b[39;49m\u001b[43mfeeder_kwargs\u001b[49m\u001b[43m,\u001b[49m\n\u001b[0;32m     80\u001b[0m \u001b[43m    \u001b[49m\u001b[43mdownloader_kwargs\u001b[49m\u001b[38;5;241;43m=\u001b[39;49m\u001b[43mdownloader_kwargs\u001b[49m\u001b[43m)\u001b[49m\n",
      "File \u001b[1;32m~\\anaconda3\\envs\\ewsd\\lib\\site-packages\\icrawler\\crawler.py:146\u001b[0m, in \u001b[0;36mCrawler.crawl\u001b[1;34m(self, feeder_thread_num, parser_thread_num, downloader_thread_num, feeder_kwargs, parser_kwargs, downloader_kwargs)\u001b[0m\n\u001b[0;32m    144\u001b[0m     \u001b[38;5;28;01mif\u001b[39;00m \u001b[38;5;129;01mnot\u001b[39;00m \u001b[38;5;28mself\u001b[39m\u001b[38;5;241m.\u001b[39mparser\u001b[38;5;241m.\u001b[39mis_alive():\n\u001b[0;32m    145\u001b[0m         \u001b[38;5;28mself\u001b[39m\u001b[38;5;241m.\u001b[39msignal\u001b[38;5;241m.\u001b[39mset({\u001b[38;5;124m'\u001b[39m\u001b[38;5;124mparser_exited\u001b[39m\u001b[38;5;124m'\u001b[39m: \u001b[38;5;28;01mTrue\u001b[39;00m})\n\u001b[1;32m--> 146\u001b[0m     \u001b[43mtime\u001b[49m\u001b[38;5;241;43m.\u001b[39;49m\u001b[43msleep\u001b[49m\u001b[43m(\u001b[49m\u001b[38;5;241;43m1\u001b[39;49m\u001b[43m)\u001b[49m\n\u001b[0;32m    147\u001b[0m \u001b[38;5;28mself\u001b[39m\u001b[38;5;241m.\u001b[39mlogger\u001b[38;5;241m.\u001b[39minfo(\u001b[38;5;124m'\u001b[39m\u001b[38;5;124mCrawling task done!\u001b[39m\u001b[38;5;124m'\u001b[39m)\n",
      "\u001b[1;31mKeyboardInterrupt\u001b[0m: "
     ]
    }
   ],
   "source": [
    "from icrawler.examples import GoogleImageCrawler\n",
    "google_crawler = GoogleImageCrawler('Dataset/add_without_weapon')\n",
    "google_crawler.crawl(keyword='sunny', offset=0, max_num=10,\n",
    "                     date_min=None, date_max=None, feeder_thr_num=12,\n",
    "                     parser_thr_num=1, downloader_thr_num=12,\n",
    "                     min_size=(300,300), max_size=None)"
   ]
  },
  {
   "cell_type": "code",
   "execution_count": 1,
   "id": "2d507e48-66b3-409f-a774-a6013f3ec012",
   "metadata": {},
   "outputs": [
    {
     "name": "stderr",
     "output_type": "stream",
     "text": [
      "2023-09-23 22:30:17,157 - INFO - icrawler.crawler - start crawling...\n",
      "2023-09-23 22:30:17,159 - INFO - icrawler.crawler - starting feeder... 1 threads in total\n",
      "2023-09-23 22:30:17,159 - INFO - icrawler.feeder - thread feeder-01 started\n",
      "2023-09-23 22:30:17,160 - INFO - icrawler.crawler - starting parser... 12 threads in total\n",
      "2023-09-23 22:30:17,161 - INFO - icrawler.parser - thread parser-01 started\n",
      "2023-09-23 22:30:17,161 - INFO - icrawler.parser - thread parser-02 started\n",
      "2023-09-23 22:30:17,162 - INFO - icrawler.parser - thread parser-03 started\n",
      "2023-09-23 22:30:17,163 - INFO - icrawler.parser - thread parser-04 started\n",
      "2023-09-23 22:30:17,164 - INFO - icrawler.parser - thread parser-05 started\n",
      "2023-09-23 22:30:17,165 - INFO - icrawler.parser - thread parser-06 started\n",
      "2023-09-23 22:30:17,165 - INFO - icrawler.parser - thread parser-07 started\n",
      "2023-09-23 22:30:17,166 - INFO - icrawler.parser - thread parser-08 started\n",
      "2023-09-23 22:30:17,166 - INFO - icrawler.parser - thread parser-09 started\n",
      "2023-09-23 22:30:17,167 - INFO - icrawler.parser - thread parser-10 started\n",
      "2023-09-23 22:30:17,167 - INFO - icrawler.parser - thread parser-11 started\n",
      "2023-09-23 22:30:17,168 - INFO - icrawler.parser - thread parser-12 started\n",
      "2023-09-23 22:30:17,168 - INFO - icrawler.crawler - starting downloader... 12 threads in total\n",
      "2023-09-23 22:30:17,169 - INFO - icrawler.downloader - thread downloader-01 started\n",
      "2023-09-23 22:30:17,169 - INFO - icrawler.downloader - thread downloader-02 started\n",
      "2023-09-23 22:30:17,169 - INFO - icrawler.downloader - thread downloader-03 started\n",
      "2023-09-23 22:30:17,170 - INFO - icrawler.downloader - thread downloader-04 started\n",
      "2023-09-23 22:30:17,170 - INFO - icrawler.downloader - thread downloader-05 started\n",
      "2023-09-23 22:30:17,171 - INFO - icrawler.downloader - thread downloader-06 started\n",
      "2023-09-23 22:30:17,171 - INFO - icrawler.downloader - thread downloader-07 started\n",
      "2023-09-23 22:30:17,172 - INFO - icrawler.downloader - thread downloader-08 started\n",
      "2023-09-23 22:30:17,172 - INFO - icrawler.downloader - thread downloader-09 started\n",
      "2023-09-23 22:30:17,173 - INFO - icrawler.downloader - thread downloader-10 started\n",
      "2023-09-23 22:30:17,173 - INFO - icrawler.downloader - thread downloader-11 started\n",
      "2023-09-23 22:30:17,174 - INFO - icrawler.downloader - thread downloader-12 started\n",
      "2023-09-23 22:30:19,042 - INFO - icrawler.parser - parsing result page http://www.bing.com/images/search?q=sunny&count=35&first=0\n",
      "2023-09-23 22:30:19,175 - INFO - icrawler.parser - no more page urls to parse, thread parser-04 exit\n",
      "2023-09-23 22:30:19,177 - INFO - icrawler.parser - no more page urls to parse, thread parser-03 exit\n",
      "2023-09-23 22:30:19,177 - INFO - icrawler.parser - no more page urls to parse, thread parser-02 exit\n",
      "2023-09-23 22:30:19,177 - INFO - icrawler.parser - no more page urls to parse, thread parser-12 exit\n",
      "2023-09-23 22:30:19,177 - INFO - icrawler.parser - no more page urls to parse, thread parser-08 exit\n",
      "2023-09-23 22:30:19,177 - INFO - icrawler.parser - no more page urls to parse, thread parser-07 exit\n",
      "2023-09-23 22:30:19,177 - INFO - icrawler.parser - no more page urls to parse, thread parser-06 exit\n",
      "2023-09-23 22:30:19,178 - INFO - icrawler.parser - no more page urls to parse, thread parser-11 exit\n",
      "2023-09-23 22:30:19,178 - INFO - icrawler.parser - no more page urls to parse, thread parser-10 exit\n",
      "2023-09-23 22:30:19,178 - INFO - icrawler.parser - no more page urls to parse, thread parser-05 exit\n",
      "2023-09-23 22:30:19,178 - INFO - icrawler.parser - no more page urls to parse, thread parser-09 exit\n",
      "2023-09-23 22:30:21,132 - INFO - icrawler.parser - no more page urls to parse, thread parser-01 exit\n",
      "2023-09-23 22:30:22,171 - INFO - icrawler.downloader - no more download task, thread downloader-04 exit\n",
      "2023-09-23 22:30:22,172 - INFO - icrawler.downloader - no more download task, thread downloader-01 exit\n",
      "2023-09-23 22:30:22,172 - INFO - icrawler.downloader - no more download task, thread downloader-05 exit\n",
      "2023-09-23 22:30:22,172 - INFO - icrawler.downloader - no more download task, thread downloader-02 exit\n",
      "2023-09-23 22:30:22,172 - INFO - icrawler.downloader - no more download task, thread downloader-06 exit\n",
      "2023-09-23 22:30:22,172 - INFO - icrawler.downloader - no more download task, thread downloader-03 exit\n",
      "2023-09-23 22:30:22,172 - INFO - icrawler.downloader - no more download task, thread downloader-07 exit\n",
      "2023-09-23 22:30:22,187 - INFO - icrawler.downloader - no more download task, thread downloader-12 exit\n",
      "2023-09-23 22:30:22,188 - INFO - icrawler.downloader - no more download task, thread downloader-09 exit\n",
      "2023-09-23 22:30:22,188 - INFO - icrawler.downloader - no more download task, thread downloader-10 exit\n",
      "2023-09-23 22:30:22,188 - INFO - icrawler.downloader - no more download task, thread downloader-11 exit\n",
      "2023-09-23 22:30:22,188 - INFO - icrawler.downloader - no more download task, thread downloader-08 exit\n"
     ]
    },
    {
     "ename": "KeyboardInterrupt",
     "evalue": "",
     "output_type": "error",
     "traceback": [
      "\u001b[1;31m---------------------------------------------------------------------------\u001b[0m",
      "\u001b[1;31mKeyboardInterrupt\u001b[0m                         Traceback (most recent call last)",
      "Cell \u001b[1;32mIn[1], line 4\u001b[0m\n\u001b[0;32m      1\u001b[0m \u001b[38;5;28;01mfrom\u001b[39;00m \u001b[38;5;21;01micrawler\u001b[39;00m\u001b[38;5;21;01m.\u001b[39;00m\u001b[38;5;21;01mexamples\u001b[39;00m \u001b[38;5;28;01mimport\u001b[39;00m BingImageCrawler\n\u001b[0;32m      3\u001b[0m bing_crawler \u001b[38;5;241m=\u001b[39m BingImageCrawler(\u001b[38;5;124m'\u001b[39m\u001b[38;5;124mDataset/add_without_weapon\u001b[39m\u001b[38;5;124m'\u001b[39m)\n\u001b[1;32m----> 4\u001b[0m \u001b[43mbing_crawler\u001b[49m\u001b[38;5;241;43m.\u001b[39;49m\u001b[43mcrawl\u001b[49m\u001b[43m(\u001b[49m\u001b[43mkeyword\u001b[49m\u001b[38;5;241;43m=\u001b[39;49m\u001b[38;5;124;43m'\u001b[39;49m\u001b[38;5;124;43msunny\u001b[39;49m\u001b[38;5;124;43m'\u001b[39;49m\u001b[43m,\u001b[49m\u001b[43m \u001b[49m\u001b[43moffset\u001b[49m\u001b[38;5;241;43m=\u001b[39;49m\u001b[38;5;241;43m0\u001b[39;49m\u001b[43m,\u001b[49m\u001b[43m \u001b[49m\u001b[43mmax_num\u001b[49m\u001b[38;5;241;43m=\u001b[39;49m\u001b[38;5;241;43m10\u001b[39;49m\u001b[43m,\u001b[49m\n\u001b[0;32m      5\u001b[0m \u001b[43m                   \u001b[49m\u001b[43mfeeder_thr_num\u001b[49m\u001b[38;5;241;43m=\u001b[39;49m\u001b[38;5;241;43m1\u001b[39;49m\u001b[43m,\u001b[49m\u001b[43m \u001b[49m\u001b[43mparser_thr_num\u001b[49m\u001b[38;5;241;43m=\u001b[39;49m\u001b[38;5;241;43m12\u001b[39;49m\u001b[43m,\u001b[49m\u001b[43m \u001b[49m\u001b[43mdownloader_thr_num\u001b[49m\u001b[38;5;241;43m=\u001b[39;49m\u001b[38;5;241;43m12\u001b[39;49m\u001b[43m,\u001b[49m\n\u001b[0;32m      6\u001b[0m \u001b[43m                   \u001b[49m\u001b[43mmin_size\u001b[49m\u001b[38;5;241;43m=\u001b[39;49m\u001b[38;5;28;43;01mNone\u001b[39;49;00m\u001b[43m,\u001b[49m\u001b[43m \u001b[49m\u001b[43mmax_size\u001b[49m\u001b[38;5;241;43m=\u001b[39;49m\u001b[38;5;28;43;01mNone\u001b[39;49;00m\u001b[43m)\u001b[49m\n",
      "File \u001b[1;32m~\\anaconda3\\envs\\ewsd\\lib\\site-packages\\icrawler\\examples\\bing.py:58\u001b[0m, in \u001b[0;36mBingImageCrawler.crawl\u001b[1;34m(self, keyword, offset, max_num, feeder_thr_num, parser_thr_num, downloader_thr_num, min_size, max_size)\u001b[0m\n\u001b[0;32m     49\u001b[0m feeder_kwargs \u001b[38;5;241m=\u001b[39m \u001b[38;5;28mdict\u001b[39m(\n\u001b[0;32m     50\u001b[0m     url_template\u001b[38;5;241m=\u001b[39m\u001b[38;5;124m'\u001b[39m\u001b[38;5;124mhttp://www.bing.com/images/search?q=\u001b[39m\u001b[38;5;132;01m{}\u001b[39;00m\u001b[38;5;124m&count=35&first=\u001b[39m\u001b[38;5;132;01m{}\u001b[39;00m\u001b[38;5;124m'\u001b[39m,\n\u001b[0;32m     51\u001b[0m     keyword\u001b[38;5;241m=\u001b[39mkeyword,\n\u001b[1;32m   (...)\u001b[0m\n\u001b[0;32m     54\u001b[0m     page_step\u001b[38;5;241m=\u001b[39m\u001b[38;5;241m35\u001b[39m\n\u001b[0;32m     55\u001b[0m )\n\u001b[0;32m     56\u001b[0m downloader_kwargs \u001b[38;5;241m=\u001b[39m \u001b[38;5;28mdict\u001b[39m(max_num\u001b[38;5;241m=\u001b[39mmax_num, min_size\u001b[38;5;241m=\u001b[39mmin_size,\n\u001b[0;32m     57\u001b[0m                          max_size\u001b[38;5;241m=\u001b[39mmax_size)\n\u001b[1;32m---> 58\u001b[0m \u001b[38;5;28;43msuper\u001b[39;49m\u001b[43m(\u001b[49m\u001b[43mBingImageCrawler\u001b[49m\u001b[43m,\u001b[49m\u001b[43m \u001b[49m\u001b[38;5;28;43mself\u001b[39;49m\u001b[43m)\u001b[49m\u001b[38;5;241;43m.\u001b[39;49m\u001b[43mcrawl\u001b[49m\u001b[43m(\u001b[49m\n\u001b[0;32m     59\u001b[0m \u001b[43m    \u001b[49m\u001b[43mfeeder_thr_num\u001b[49m\u001b[43m,\u001b[49m\u001b[43m \u001b[49m\u001b[43mparser_thr_num\u001b[49m\u001b[43m,\u001b[49m\u001b[43m \u001b[49m\u001b[43mdownloader_thr_num\u001b[49m\u001b[43m,\u001b[49m\n\u001b[0;32m     60\u001b[0m \u001b[43m    \u001b[49m\u001b[43mfeeder_kwargs\u001b[49m\u001b[38;5;241;43m=\u001b[39;49m\u001b[43mfeeder_kwargs\u001b[49m\u001b[43m,\u001b[49m\n\u001b[0;32m     61\u001b[0m \u001b[43m    \u001b[49m\u001b[43mdownloader_kwargs\u001b[49m\u001b[38;5;241;43m=\u001b[39;49m\u001b[43mdownloader_kwargs\u001b[49m\u001b[43m)\u001b[49m\n",
      "File \u001b[1;32m~\\anaconda3\\envs\\ewsd\\lib\\site-packages\\icrawler\\crawler.py:146\u001b[0m, in \u001b[0;36mCrawler.crawl\u001b[1;34m(self, feeder_thread_num, parser_thread_num, downloader_thread_num, feeder_kwargs, parser_kwargs, downloader_kwargs)\u001b[0m\n\u001b[0;32m    144\u001b[0m     \u001b[38;5;28;01mif\u001b[39;00m \u001b[38;5;129;01mnot\u001b[39;00m \u001b[38;5;28mself\u001b[39m\u001b[38;5;241m.\u001b[39mparser\u001b[38;5;241m.\u001b[39mis_alive():\n\u001b[0;32m    145\u001b[0m         \u001b[38;5;28mself\u001b[39m\u001b[38;5;241m.\u001b[39msignal\u001b[38;5;241m.\u001b[39mset({\u001b[38;5;124m'\u001b[39m\u001b[38;5;124mparser_exited\u001b[39m\u001b[38;5;124m'\u001b[39m: \u001b[38;5;28;01mTrue\u001b[39;00m})\n\u001b[1;32m--> 146\u001b[0m     \u001b[43mtime\u001b[49m\u001b[38;5;241;43m.\u001b[39;49m\u001b[43msleep\u001b[49m\u001b[43m(\u001b[49m\u001b[38;5;241;43m1\u001b[39;49m\u001b[43m)\u001b[49m\n\u001b[0;32m    147\u001b[0m \u001b[38;5;28mself\u001b[39m\u001b[38;5;241m.\u001b[39mlogger\u001b[38;5;241m.\u001b[39minfo(\u001b[38;5;124m'\u001b[39m\u001b[38;5;124mCrawling task done!\u001b[39m\u001b[38;5;124m'\u001b[39m)\n",
      "\u001b[1;31mKeyboardInterrupt\u001b[0m: "
     ]
    }
   ],
   "source": [
    "from icrawler.examples import BingImageCrawler\n",
    "\n",
    "bing_crawler = BingImageCrawler('Dataset/add_without_weapon')\n",
    "bing_crawler.crawl(keyword='sunny', offset=0, max_num=10,\n",
    "                   feeder_thr_num=1, parser_thr_num=12, downloader_thr_num=12,\n",
    "                   min_size=None, max_size=None)"
   ]
  }
 ],
 "metadata": {
  "kernelspec": {
   "display_name": "Python 3 (ipykernel)",
   "language": "python",
   "name": "python3"
  },
  "language_info": {
   "codemirror_mode": {
    "name": "ipython",
    "version": 3
   },
   "file_extension": ".py",
   "mimetype": "text/x-python",
   "name": "python",
   "nbconvert_exporter": "python",
   "pygments_lexer": "ipython3",
   "version": "3.8.18"
  }
 },
 "nbformat": 4,
 "nbformat_minor": 5
}
